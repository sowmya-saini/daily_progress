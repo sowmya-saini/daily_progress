{
 "cells": [
  {
   "attachments": {},
   "cell_type": "markdown",
   "metadata": {},
   "source": [
    "ASSIGNMENTS - LEVEL 0 NEW PROBELMS"
   ]
  },
  {
   "attachments": {},
   "cell_type": "markdown",
   "metadata": {},
   "source": [
    "EXPRESSIONS"
   ]
  },
  {
   "attachments": {},
   "cell_type": "markdown",
   "metadata": {},
   "source": [
    "ECHO ECHO ECHO\n",
    "https://open.kattis.com/problems/echoechoecho"
   ]
  },
  {
   "cell_type": "code",
   "execution_count": 2,
   "metadata": {},
   "outputs": [
    {
     "name": "stdout",
     "output_type": "stream",
     "text": [
      "saini saini saini "
     ]
    }
   ],
   "source": [
    "def echo(word):\n",
    "    for i in range(3):\n",
    "        print(word, end = \" \")\n",
    "word = input()\n",
    "echo(word)"
   ]
  },
  {
   "attachments": {},
   "cell_type": "markdown",
   "metadata": {},
   "source": [
    "Pizza Crust\n",
    "\n",
    "https://open.kattis.com/problems/pizza2"
   ]
  },
  {
   "cell_type": "code",
   "execution_count": 7,
   "metadata": {},
   "outputs": [
    {
     "name": "stdout",
     "output_type": "stream",
     "text": [
      "25.000000\n"
     ]
    }
   ],
   "source": [
    "R, C = map(int, input().split())\n",
    "value = (R-C) ** 2 / R ** 2\n",
    "print(format(value*100, \".6f\"))"
   ]
  },
  {
   "attachments": {},
   "cell_type": "markdown",
   "metadata": {},
   "source": [
    "Bijele\n",
    "https://open.kattis.com/problems/bijele"
   ]
  },
  {
   "cell_type": "code",
   "execution_count": 9,
   "metadata": {},
   "outputs": [
    {
     "name": "stdout",
     "output_type": "stream",
     "text": [
      "1 0 0 0 0 1 "
     ]
    }
   ],
   "source": [
    "def bijele(arr):\n",
    "    condition_array = [1, 1, 2, 2, 2, 8]\n",
    "    for i in range(len(arr)):\n",
    "        if arr[i] == condition_array[i]:\n",
    "            print(0, end = \" \")\n",
    "        else:\n",
    "            print(condition_array[i] - arr[i], end = \" \")\n",
    "\n",
    "arr = list(map(int, input().split()))\n",
    "bijele(arr)"
   ]
  },
  {
   "attachments": {},
   "cell_type": "markdown",
   "metadata": {},
   "source": [
    "R2\n",
    "https://open.kattis.com/problems/r2"
   ]
  },
  {
   "cell_type": "code",
   "execution_count": null,
   "metadata": {},
   "outputs": [],
   "source": [
    "def r2(r1, s):\n",
    "    print(2*s - r1)\n",
    "r1, s = map(int, input().split())\n",
    "r2(r1, s)"
   ]
  },
  {
   "attachments": {},
   "cell_type": "markdown",
   "metadata": {},
   "source": [
    "BRANCHING"
   ]
  },
  {
   "attachments": {},
   "cell_type": "markdown",
   "metadata": {},
   "source": [
    "even or odd\n",
    "https://www.hackerrank.com/contests/branching/challenges\n"
   ]
  },
  {
   "attachments": {},
   "cell_type": "markdown",
   "metadata": {},
   "source": [
    "ColorOfSquare"
   ]
  },
  {
   "cell_type": "code",
   "execution_count": null,
   "metadata": {},
   "outputs": [],
   "source": [
    "def colorofsquare(value):\n",
    "    if value[0] == \"a\" or value[0] == \"c\" or value[0] == \"e\" or value[0] == \"g\":\n",
    "        if int(value[1]) % 2 == 0:\n",
    "            print(\"white\")\n",
    "        else:\n",
    "            print(\"black\")\n",
    "    else:\n",
    "        if int(value[1]) % 2 != 0:\n",
    "            print(\"white\")\n",
    "        else:\n",
    "            print(\"black\") \n",
    "value = input()\n",
    "colorofsquare(value)"
   ]
  },
  {
   "attachments": {},
   "cell_type": "markdown",
   "metadata": {},
   "source": [
    "FIND SEASON"
   ]
  },
  {
   "cell_type": "code",
   "execution_count": null,
   "metadata": {},
   "outputs": [],
   "source": [
    "def season_day_month(month_date):\n",
    "    if (month_date[0] == \"march\" and int(month_date[1]) >= 20) or month_date[0] == \"april\" or month_date[0] == \"may\" or (month_date[0] == \"june\" and int(month_date[1]) < 21):\n",
    "        print(\"spring\")\n",
    "    elif (month_date[0] == \"june\" and int(month_date[1]) >= 21) or month_date[0]== \"july\" or month_date[0] == \"august\" or (month_date[0] == \"september\" and int(month_date[1]) < 22):\n",
    "        print(\"summer\")\n",
    "    elif (month_date[0] == \"september\" and int(month_date[1]) >= 22) or month_date[0] == \"october\" or month_date[0] == \"november\" or (month_date[0] == \"december\" and int(month_date[1])< 21):\n",
    "        print(\"fall\")\n",
    "    elif(month_date[0]== \"december\" and int(month_date[1]) >= 21) or month_date[0] == \"january\" or month_date[0]== \"february\" or (month_date[0] == \"march\" and int(month_date[1]) < 20):\n",
    "        print(\"winter\")\n",
    "\n",
    "month_date = input().split()\n",
    "season_day_month(month_date)\n",
    "        "
   ]
  },
  {
   "attachments": {},
   "cell_type": "markdown",
   "metadata": {},
   "source": [
    "EVEN OR ODD"
   ]
  },
  {
   "cell_type": "code",
   "execution_count": null,
   "metadata": {},
   "outputs": [],
   "source": [
    "def iseven(n):\n",
    "    if n% 2 == 0:\n",
    "        print(\"EVEN\")\n",
    "    else:\n",
    "        print(\"ODD\")\n",
    "n = int(input())\n",
    "iseven(n)"
   ]
  },
  {
   "attachments": {},
   "cell_type": "markdown",
   "metadata": {},
   "source": [
    "valid triangle or not"
   ]
  },
  {
   "cell_type": "code",
   "execution_count": null,
   "metadata": {},
   "outputs": [],
   "source": [
    "def validtriangle(a, b, c):\n",
    "    if a>= b+c or b >= c+a or c >= a+b:\n",
    "        print(\"NO\")\n",
    "    else:\n",
    "        print(\"YES\")\n",
    "    \n",
    "a, b, c = map(int, input().split())\n",
    "validtriangle(a, b, c)"
   ]
  },
  {
   "attachments": {},
   "cell_type": "markdown",
   "metadata": {},
   "source": [
    "MEDIAN OF THREE"
   ]
  },
  {
   "cell_type": "code",
   "execution_count": null,
   "metadata": {},
   "outputs": [],
   "source": [
    "def medianofthree(a, b, c):\n",
    "    if (a>b and a<c) or (a>c and a<b):\n",
    "        print(a)\n",
    "    elif (b>a and b<c) or (b>c and b<a):\n",
    "        print(b)\n",
    "    else:\n",
    "        print(c)\n",
    "a, b, c= map(int, input().split())\n",
    "medianofthree(a, b, c)"
   ]
  },
  {
   "attachments": {},
   "cell_type": "markdown",
   "metadata": {},
   "source": [
    "COLORS OF LIGHT"
   ]
  },
  {
   "cell_type": "code",
   "execution_count": null,
   "metadata": {},
   "outputs": [],
   "source": [
    "def colorsoflight(wavelength):\n",
    "    if wavelength >=380 and wavelength < 450:\n",
    "        print(\"violet\")\n",
    "    elif  wavelength >=450 and wavelength < 495:\n",
    "        print(\"blue\")\n",
    "    elif  wavelength >=495 and wavelength < 570:\n",
    "        print(\"green\")\n",
    "    elif  wavelength >=570 and wavelength <590:\n",
    "        print(\"yellow\")\n",
    "    elif  wavelength >=590 and wavelength < 620:\n",
    "        print(\"orange\")\n",
    "    else:\n",
    "        print(\"red\")\n",
    "wavelength = int(input())\n",
    "colorsoflight(wavelength)"
   ]
  },
  {
   "attachments": {},
   "cell_type": "markdown",
   "metadata": {},
   "source": [
    "QUADRANT SELECTION\n",
    "\n",
    "https://open.kattis.com/problems/quadrant"
   ]
  },
  {
   "cell_type": "code",
   "execution_count": null,
   "metadata": {},
   "outputs": [],
   "source": [
    "x = int(input())\n",
    "y = int(input())\n",
    "if x > 0 and y>0:\n",
    "    print(\"1\")\n",
    "elif x<0 and y>0:\n",
    "    print(\"2\")\n",
    "elif x<0 and y<0:\n",
    "    print(\"3\")\n",
    "else:\n",
    "    print(\"4\")"
   ]
  },
  {
   "attachments": {},
   "cell_type": "markdown",
   "metadata": {},
   "source": [
    "Problem A\n",
    "Moscow Dream\n",
    "https://open.kattis.com/problems/moscowdream"
   ]
  },
  {
   "cell_type": "code",
   "execution_count": null,
   "metadata": {},
   "outputs": [],
   "source": [
    "a, b, c, n = map(int, input().split())\n",
    "if a == 0 or b == 0 or c==0:\n",
    "    print(\"NO\")\n",
    "elif (a > 0  and b>0 and c >0) and (a<= 10 and b<=10 and c<=10)and (a+b+c >= n) and (n>= 3 and n<=20):\n",
    "    print(\"YES\")\n",
    "else:\n",
    "    print(\"NO\")"
   ]
  },
  {
   "attachments": {},
   "cell_type": "markdown",
   "metadata": {},
   "source": [
    "Judging Moose -solve again\n",
    "https://open.kattis.com/problems/judgingmoose"
   ]
  },
  {
   "cell_type": "code",
   "execution_count": 11,
   "metadata": {},
   "outputs": [
    {
     "name": "stdout",
     "output_type": "stream",
     "text": [
      "Odd 2\n"
     ]
    }
   ],
   "source": [
    "def judging_moose(left, right):\n",
    "    if left == right:\n",
    "        print(\"Even\", left+right)\n",
    "    elif left == 0 and right == 0:\n",
    "        print(\"Not a moose\")\n",
    "    else:\n",
    "        print(\"Odd\", max(left, right)*2)\n",
    "left , right = map(int, input().split())\n",
    "judging_moose(left,right)"
   ]
  },
  {
   "attachments": {},
   "cell_type": "markdown",
   "metadata": {},
   "source": [
    "Building Pyramids\n",
    "https://open.kattis.com/problems/pyramids"
   ]
  },
  {
   "cell_type": "code",
   "execution_count": null,
   "metadata": {},
   "outputs": [],
   "source": [
    "n = int(input())\n",
    "val = 1\n",
    "all_blocks = 0\n",
    "count = 0\n",
    "while(True):\n",
    "    all_blocks += val * val\n",
    "    val += 2\n",
    "    if all_blocks <= n:\n",
    "        count += 1\n",
    "    else:\n",
    "        break\n",
    "print(count)\n"
   ]
  },
  {
   "attachments": {},
   "cell_type": "markdown",
   "metadata": {},
   "source": [
    "OVERDRAFT\n",
    "https://open.kattis.com/problems/overdraft"
   ]
  },
  {
   "attachments": {},
   "cell_type": "markdown",
   "metadata": {},
   "source": [
    "Cinema Crowds\n",
    "https://open.kattis.com/problems/cinema"
   ]
  },
  {
   "cell_type": "code",
   "execution_count": 1,
   "metadata": {},
   "outputs": [
    {
     "name": "stdout",
     "output_type": "stream",
     "text": [
      "1\n"
     ]
    }
   ],
   "source": [
    "def cinemaCrowd(n, m):\n",
    "    sum_groups = 0\n",
    "    count = 0\n",
    "    arr = list(map(int, input().split()))\n",
    "    for i in arr:\n",
    "        sum_groups += i\n",
    "        count += 1\n",
    "        if sum_groups == n:\n",
    "            break\n",
    "        elif sum_groups>n:\n",
    "            count -=1\n",
    "            break\n",
    "    print(m - count)\n",
    "n, m = map(int, input().split())\n",
    "cinemaCrowd(n, m)"
   ]
  },
  {
   "attachments": {},
   "cell_type": "markdown",
   "metadata": {},
   "source": [
    "STRINGS"
   ]
  },
  {
   "attachments": {},
   "cell_type": "markdown",
   "metadata": {},
   "source": [
    "ASCII CODES\n",
    "\n",
    "https://www.hackerrank.com/contests/stringproblems1/challenges/code-to-ascii "
   ]
  },
  {
   "cell_type": "code",
   "execution_count": null,
   "metadata": {},
   "outputs": [],
   "source": [
    "for i in range(33, 127):\n",
    "    print(\"{:3d}\".format(i), end = \"\\t\")\n",
    "    print(chr(i))"
   ]
  },
  {
   "attachments": {},
   "cell_type": "markdown",
   "metadata": {},
   "source": [
    "Detailed Differences\n",
    "https://open.kattis.com/problems/detaileddifferences"
   ]
  },
  {
   "cell_type": "code",
   "execution_count": null,
   "metadata": {},
   "outputs": [],
   "source": [
    "def detailed_difference(n):\n",
    "    count = 0\n",
    "    for i in range(n*2):\n",
    "        if i % 2 == 0:\n",
    "            val1 = input()\n",
    "            count += 1\n",
    "        else:\n",
    "            val2 = input()\n",
    "            count += 1\n",
    "        if count % 2 == 0:\n",
    "            print(val1)\n",
    "            print(val2)\n",
    "            for i in range(len(val1)):\n",
    "                if val1[i] == val2[i]:\n",
    "                    print(\".\", end = \"\")\n",
    "                else:\n",
    "                    print(\"*\", end = \"\")\n",
    "            print(\"\")\n",
    "n = int(input())\n",
    "detailed_difference(n)"
   ]
  },
  {
   "attachments": {},
   "cell_type": "markdown",
   "metadata": {},
   "source": [
    "Average Character\n",
    "https://open.kattis.com/problems/averagecharacter"
   ]
  },
  {
   "cell_type": "code",
   "execution_count": null,
   "metadata": {},
   "outputs": [],
   "source": [
    "def average_character(characters):\n",
    "    sum_chars = 0\n",
    "    for i in characters:\n",
    "        sum_chars += ord(i)\n",
    "    avg_val = sum_chars//len(characters)\n",
    "    print(chr(avg_val))\n",
    "characters = input()\n",
    "average_character(characters)"
   ]
  },
  {
   "attachments": {},
   "cell_type": "markdown",
   "metadata": {},
   "source": [
    "Pea Soup and Pancakes  -SOLVE\n",
    "https://open.kattis.com/problems/peasoup"
   ]
  },
  {
   "cell_type": "code",
   "execution_count": null,
   "metadata": {},
   "outputs": [],
   "source": [
    "def pankcake_soup(n_restaurents):\n",
    "    res_names = []\n",
    "    for i in range(n_restaurents):\n",
    "        items = int(input())\n",
    "        \n",
    "        for j in range(items+1):\n",
    "            if j == 0:\n",
    "                res_name = input()\n",
    "                p = 0\n",
    "                pan = 0\n",
    "            else:\n",
    "                item = input()\n",
    "                if \"pea soup\" in item:\n",
    "                    p += 1\n",
    "                if \"pankcakes\" in item:\n",
    "                    pan += 1\n",
    "        # print(item)\n",
    "        if p >= 1 and pan >= 1:\n",
    "            res_names.append(res_name)\n",
    "    print(res_names)\n",
    "    if len(res_names) == n_restaurents:\n",
    "        print(\"Anywhere is fine I guess\")\n",
    "    else:\n",
    "        print(res_names[0])\n",
    "\n",
    "        \n",
    "n_restaurents = int(input())\n",
    "pankcake_soup(n_restaurents)"
   ]
  },
  {
   "attachments": {},
   "cell_type": "markdown",
   "metadata": {},
   "source": [
    "\n",
    "Autori\n",
    "https://open.kattis.com/problems/autori"
   ]
  },
  {
   "cell_type": "code",
   "execution_count": null,
   "metadata": {},
   "outputs": [],
   "source": [
    "string_in = input().split(\"-\")\n",
    "stri = \"\"\n",
    "for i in string_in:\n",
    "    stri += i[0]\n",
    "print(stri)"
   ]
  },
  {
   "attachments": {},
   "cell_type": "markdown",
   "metadata": {},
   "source": [
    "Avion\n",
    "https://open.kattis.com/problems/avion"
   ]
  },
  {
   "cell_type": "code",
   "execution_count": null,
   "metadata": {},
   "outputs": [],
   "source": [
    "def avion():\n",
    "    count = 0\n",
    "    for i in range(5):\n",
    "        val = input()\n",
    "        if \"FBI\" in val:\n",
    "            print(i+1)\n",
    "            count += 1\n",
    "    if count == 0:\n",
    "        print(\"HE GOT AWAY!\")\n",
    "\n",
    "avion()"
   ]
  },
  {
   "attachments": {},
   "cell_type": "markdown",
   "metadata": {},
   "source": [
    "Help a PhD candidate out!\n",
    "https://open.kattis.com/problems/helpaphd\n"
   ]
  },
  {
   "cell_type": "code",
   "execution_count": null,
   "metadata": {},
   "outputs": [],
   "source": [
    "def phd(n):\n",
    "    for i in range(n):\n",
    "        operation = input()\n",
    "        if operation == \"P=NP\":\n",
    "            print(\"skipped\")\n",
    "        else:\n",
    "            o = operation.split('+')\n",
    "            print(int(o[0]) + int(o[-1]))\n",
    "n = int(input())\n",
    "phd(n)"
   ]
  },
  {
   "attachments": {},
   "cell_type": "markdown",
   "metadata": {},
   "source": [
    "IsItHalloween.com\n",
    "\n",
    "https://open.kattis.com/problems/isithalloween"
   ]
  },
  {
   "cell_type": "code",
   "execution_count": null,
   "metadata": {},
   "outputs": [],
   "source": [
    "def ishalloween(date_month):\n",
    "    if date_month == \"OCT 31\" or date_month == \"DEC 25\":\n",
    "        print(\"yup\")\n",
    "    else:\n",
    "        print(\"nope\")\n",
    "date_month = input()\n",
    "ishalloween(date_month)"
   ]
  },
  {
   "attachments": {},
   "cell_type": "markdown",
   "metadata": {},
   "source": [
    "Cryptographer's Conundrum\n",
    "https://open.kattis.com/problems/conundrum"
   ]
  },
  {
   "cell_type": "markdown",
   "metadata": {},
   "source": []
  },
  {
   "attachments": {},
   "cell_type": "markdown",
   "metadata": {},
   "source": [
    "NESTED LOOPS"
   ]
  },
  {
   "attachments": {},
   "cell_type": "markdown",
   "metadata": {},
   "source": [
    "https://www.hackerrank.com/contests/simpleloops/challenges"
   ]
  },
  {
   "attachments": {},
   "cell_type": "markdown",
   "metadata": {},
   "source": [
    "Average-I"
   ]
  },
  {
   "cell_type": "code",
   "execution_count": null,
   "metadata": {},
   "outputs": [],
   "source": [
    "def average1(num):\n",
    "    foot_square_less = 0\n",
    "    count_less = 0\n",
    "    foot_square_high = 0\n",
    "    count_high = 0\n",
    "    for i in range(num):\n",
    "        details = input().split()\n",
    "        if int(details[1]) <= 3:\n",
    "            foot_square_less += int(details[2])\n",
    "            count_less += 1\n",
    "        elif int(details[1]) >= 4:\n",
    "            foot_square_high += int(details[2])\n",
    "            count_high += 1\n",
    "    print(foot_square_less // count_less, end = \" \")\n",
    "    print(foot_square_high // count_high) \n",
    "num = int(input())\n",
    "average1(num)"
   ]
  },
  {
   "attachments": {},
   "cell_type": "markdown",
   "metadata": {},
   "source": [
    "AVERAGE - II"
   ]
  },
  {
   "cell_type": "code",
   "execution_count": null,
   "metadata": {},
   "outputs": [],
   "source": [
    "def average2(num):\n",
    "    foot_square_one= 0\n",
    "    count_one = 0\n",
    "    foot_square_two = 0\n",
    "    count_two = 0\n",
    "    foot_square_three = 0\n",
    "    count_three = 0\n",
    "    for i in range(num):\n",
    "        details = input().split()\n",
    "        if int(details[1]) == 1 or int(details[1]) == 2:\n",
    "            foot_square_one += int(details[0])\n",
    "            count_one += 1\n",
    "        elif int(details[1]) == 3 or int(details[1]) == 4:\n",
    "            foot_square_two += int(details[0])\n",
    "            count_two += 1\n",
    "        elif int(details[1]) == 5 or int(details[1]) == 6:\n",
    "            foot_square_three += int(details[0])\n",
    "            count_three += 1\n",
    "    print(foot_square_one // count_one)\n",
    "    print(foot_square_two // count_two) \n",
    "    print(foot_square_three // count_three) \n",
    "num = int(input())\n",
    "average2(num)"
   ]
  },
  {
   "attachments": {},
   "cell_type": "markdown",
   "metadata": {},
   "source": [
    "SecondCheapest"
   ]
  },
  {
   "cell_type": "code",
   "execution_count": null,
   "metadata": {},
   "outputs": [],
   "source": [
    "def second_cheapest(num):\n",
    "    details = []\n",
    "    prices = []\n",
    "    for i in range(num):\n",
    "        val = input().split()\n",
    "        details.append(val)\n",
    "        if int(val[1]) == 3:\n",
    "            prices.append((val[0]))\n",
    "    prices.sort()\n",
    "    for i in range(len(details)):\n",
    "        if details[i][0] == prices[1]:\n",
    "            print(\" \".join(details[i]))\n",
    "            break\n",
    "num = int(input())\n",
    "second_cheapest(num)"
   ]
  },
  {
   "attachments": {},
   "cell_type": "markdown",
   "metadata": {},
   "source": [
    "Most-Expensive-House1"
   ]
  },
  {
   "cell_type": "code",
   "execution_count": null,
   "metadata": {},
   "outputs": [],
   "source": [
    "def high_price(num):\n",
    "    details = []\n",
    "    prices = []\n",
    "    for i in range(num):\n",
    "        val = input().split()\n",
    "        details.append(val)\n",
    "        prices.append((val[0]))\n",
    "    prices.sort()\n",
    "    for i in range(len(details)):\n",
    "        if details[i][0] == prices[-1]:\n",
    "            print(\" \".join(details[i]))\n",
    "            break\n",
    "num = int(input())\n",
    "high_price(num)"
   ]
  },
  {
   "attachments": {},
   "cell_type": "markdown",
   "metadata": {},
   "source": [
    "RangeDigitSum"
   ]
  },
  {
   "cell_type": "code",
   "execution_count": null,
   "metadata": {},
   "outputs": [],
   "source": [
    "def sum_digits(num):\n",
    "    sum_digits = 0\n",
    "    while(num > 0):\n",
    "        sum_digits += num % 10\n",
    "        num //= 10\n",
    "    return sum_digits\n",
    "def range_digit_int(a, b):\n",
    "    sum_all = 0\n",
    "    for i in range(a, b+1):\n",
    "        value = sum_digits(i)\n",
    "        sum_all += value\n",
    "    print(sum_all)\n",
    "a, b = map(int, input().split())\n",
    "range_digit_int(a, b)"
   ]
  }
 ],
 "metadata": {
  "kernelspec": {
   "display_name": "Python 3",
   "language": "python",
   "name": "python3"
  },
  "language_info": {
   "codemirror_mode": {
    "name": "ipython",
    "version": 3
   },
   "file_extension": ".py",
   "mimetype": "text/x-python",
   "name": "python",
   "nbconvert_exporter": "python",
   "pygments_lexer": "ipython3",
   "version": "3.10.8"
  },
  "orig_nbformat": 4,
  "vscode": {
   "interpreter": {
    "hash": "beedbe2faf2f7048d727558d0bc3221e7eba2a0b921cac4d4771b2feb8f74b30"
   }
  }
 },
 "nbformat": 4,
 "nbformat_minor": 2
}
