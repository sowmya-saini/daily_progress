{
 "cells": [
  {
   "attachments": {},
   "cell_type": "markdown",
   "metadata": {},
   "source": [
    "FILES :\n",
    "Before performing reading or writing operations on files we have to open the files\n",
    "open() is inbuilt function which is used to open the file but at the time of opening we need to specify the mode\n",
    "\n",
    "\n",
    "\"r\" - Read - Default value. Opens a file for reading, error if the file does not exist\n",
    "\n",
    "\"a\" - Append - Opens a file for appending, creates the file if it does not exist\n",
    "\n",
    "\"w\" - Write - Opens a file for writing, creates the file if it does not exist\n",
    "\n",
    "\"x\" - Create - Creates the specified file, returns an error if the file exists"
   ]
  },
  {
   "attachments": {},
   "cell_type": "markdown",
   "metadata": {},
   "source": [
    "\"t\" - Text - Default value. Text mode\n",
    "\n",
    "\"b\" - Binary - Binary mode (e.g. images)"
   ]
  },
  {
   "attachments": {},
   "cell_type": "markdown",
   "metadata": {},
   "source": [
    "close() -> You should always close your files, in some cases, due to buffering, changes made to a file may not show until you close the file."
   ]
  },
  {
   "attachments": {},
   "cell_type": "markdown",
   "metadata": {},
   "source": [
    "Opening a file which is already existed and reading the file using 'r' \n",
    "using print() statement we are printing what is read \n",
    "if the path is not redirected then give the path instead of file name"
   ]
  },
  {
   "cell_type": "code",
   "execution_count": 12,
   "metadata": {},
   "outputs": [
    {
     "name": "stdout",
     "output_type": "stream",
     "text": [
      "I am exploring the files topic\n",
      "The topic is quite intresting \n",
      "connected internally\n",
      "\n"
     ]
    }
   ],
   "source": [
    "f = open(\"sample.txt\", \"r\")\n",
    "print(f.read()) #prints what is read in the file\n",
    "f.close()\n"
   ]
  },
  {
   "attachments": {},
   "cell_type": "markdown",
   "metadata": {},
   "source": [
    "Reading only some parts of file"
   ]
  },
  {
   "cell_type": "code",
   "execution_count": 22,
   "metadata": {},
   "outputs": [
    {
     "name": "stdout",
     "output_type": "stream",
     "text": [
      "Welco\n"
     ]
    }
   ],
   "source": [
    "readfile = open(\"sample2.txt\", \"r\")\n",
    "print(readfile.read(5)) #prints all the 10 characters from the beginning of the line present in file including space count\n",
    "readfile.close()"
   ]
  },
  {
   "attachments": {},
   "cell_type": "markdown",
   "metadata": {},
   "source": [
    "Returing line by line by using readline() function"
   ]
  },
  {
   "cell_type": "code",
   "execution_count": 23,
   "metadata": {},
   "outputs": [
    {
     "name": "stdout",
     "output_type": "stream",
     "text": [
      "Welcome to files topic\n",
      "\n",
      "readfiles\n",
      "\n"
     ]
    }
   ],
   "source": [
    "readfile = open(\"sample2.txt\", \"r\")\n",
    "print(readfile.readline())\n",
    "print(readfile.readline())\n",
    "readfile.close()"
   ]
  },
  {
   "attachments": {},
   "cell_type": "markdown",
   "metadata": {},
   "source": [
    "Looping through the files line by line"
   ]
  },
  {
   "cell_type": "code",
   "execution_count": 26,
   "metadata": {},
   "outputs": [
    {
     "name": "stdout",
     "output_type": "stream",
     "text": [
      "Welcome to files topic\n",
      "\n",
      "readfiles\n",
      "\n",
      "writefiles\n",
      "\n"
     ]
    }
   ],
   "source": [
    "readingfile = open(\"sample2.txt\", \"r\")\n",
    "for line in readingfile:\n",
    "    print(line)\n",
    "readfile.close()"
   ]
  },
  {
   "attachments": {},
   "cell_type": "markdown",
   "metadata": {},
   "source": [
    "Write to an Existing File\n",
    "\n",
    "\n",
    "\"a\" - Append - will append to the end of the file\n",
    "\n",
    "\"w\" - Write - will overwrite any existing content"
   ]
  },
  {
   "cell_type": "code",
   "execution_count": 29,
   "metadata": {},
   "outputs": [
    {
     "name": "stdout",
     "output_type": "stream",
     "text": [
      "Welcome to files topic\n",
      "readfiles\n",
      "writefiles\n",
      " and delete filesdelete files\n"
     ]
    }
   ],
   "source": [
    "#appending\n",
    "writefile = open(\"sample2.txt\", \"a\")\n",
    "writefile.write(\"delete files\")\n",
    "writefile.close()\n",
    "\n",
    "readf = open(\"sample2.txt\", \"r\")\n",
    "print(readf.read())\n",
    "readf.close()\n",
    "\n"
   ]
  },
  {
   "cell_type": "code",
   "execution_count": 30,
   "metadata": {},
   "outputs": [
    {
     "name": "stdout",
     "output_type": "stream",
     "text": [
      "It is empty now\n"
     ]
    }
   ],
   "source": [
    "# \"w\" ->rewrites\n",
    "\n",
    "writefile = open(\"sample2.txt\", \"w\")\n",
    "writefile.write(\"It is empty now\")\n",
    "writefile.close()\n",
    "\n",
    "readf = open(\"sample2.txt\", \"r\")\n",
    "print(readf.read())\n",
    "readf.close()\n",
    "\n",
    "\n"
   ]
  },
  {
   "attachments": {},
   "cell_type": "markdown",
   "metadata": {},
   "source": [
    "Create a New File\n",
    "To create a new file in Python, use the open() method, with one of the following parameters:\n",
    "\n",
    "\"x\" - Create - will create a file, returns an error if the file exist\n",
    "\"a\" - Append - will create a file if the specified file does not exist\n",
    "\"w\" - Write - will create a file if the specified file does not exist\n"
   ]
  },
  {
   "cell_type": "code",
   "execution_count": 33,
   "metadata": {},
   "outputs": [],
   "source": [
    "# new = open(\"newfile.txt\", \"x\")\n",
    "# sample = open(\"newfile2.txt\", \"w\")\n",
    "# sample2 = open(\"newfile3.txt\", \"a\")"
   ]
  },
  {
   "attachments": {},
   "cell_type": "markdown",
   "metadata": {},
   "source": [
    "Delete a File\n",
    "To delete a file, you must import the OS module, and run its os.remove() function:"
   ]
  },
  {
   "cell_type": "code",
   "execution_count": 37,
   "metadata": {},
   "outputs": [],
   "source": [
    "import os\n",
    "# os.remove(\"newfile.txt\")"
   ]
  },
  {
   "cell_type": "code",
   "execution_count": 39,
   "metadata": {},
   "outputs": [
    {
     "name": "stdout",
     "output_type": "stream",
     "text": [
      "The file does not exist\n"
     ]
    }
   ],
   "source": [
    "\n",
    "if os.path.exists(\"s.txt\"):\n",
    "  os.remove(\"s.txt\")\n",
    "else:\n",
    "  print(\"The file does not exist\")"
   ]
  }
 ],
 "metadata": {
  "kernelspec": {
   "display_name": "Python 3",
   "language": "python",
   "name": "python3"
  },
  "language_info": {
   "codemirror_mode": {
    "name": "ipython",
    "version": 3
   },
   "file_extension": ".py",
   "mimetype": "text/x-python",
   "name": "python",
   "nbconvert_exporter": "python",
   "pygments_lexer": "ipython3",
   "version": "3.10.8"
  },
  "orig_nbformat": 4,
  "vscode": {
   "interpreter": {
    "hash": "beedbe2faf2f7048d727558d0bc3221e7eba2a0b921cac4d4771b2feb8f74b30"
   }
  }
 },
 "nbformat": 4,
 "nbformat_minor": 2
}
