{
 "cells": [
  {
   "cell_type": "code",
   "execution_count": null,
   "metadata": {},
   "outputs": [],
   "source": [
    "import random as r\n",
    "def createDeck():\n",
    "    char1 = \"23456789TJQKA\"\n",
    "    char2 = \"shdc\"\n",
    "    deck_cards = []\n",
    "    for i in range(13):\n",
    "        for j in range(4):\n",
    "            deck_cards.append(char1[i]+char2[j])\n",
    "    return deck_cards\n",
    "def swap(cards, index1, index2):\n",
    "    temp = cards[index1]\n",
    "    cards[index1] = cards[index2]\n",
    "    cards[index2] = temp\n",
    "\n",
    "\n",
    "def shuffle_cards():\n",
    "    cards = createDeck()\n",
    "    print(cards)\n",
    "    for i in range(52):\n",
    "        random_val = r.randint(0,51)\n",
    "        swap(cards, i, random_val)\n",
    "    print(cards)\n",
    "shuffle_cards()\n"
   ]
  }
 ],
 "metadata": {
  "kernelspec": {
   "display_name": "Python 3",
   "language": "python",
   "name": "python3"
  },
  "language_info": {
   "codemirror_mode": {
    "name": "ipython",
    "version": 3
   },
   "file_extension": ".py",
   "mimetype": "text/x-python",
   "name": "python",
   "nbconvert_exporter": "python",
   "pygments_lexer": "ipython3",
   "version": "3.10.8"
  },
  "orig_nbformat": 4,
  "vscode": {
   "interpreter": {
    "hash": "beedbe2faf2f7048d727558d0bc3221e7eba2a0b921cac4d4771b2feb8f74b30"
   }
  }
 },
 "nbformat": 4,
 "nbformat_minor": 2
}
