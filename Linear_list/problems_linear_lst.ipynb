{
 "cells": [
  {
   "attachments": {},
   "cell_type": "markdown",
   "metadata": {},
   "source": [
    "Problem 1: Sequence of Numbers\n",
    "Create a function named getSeq that reads integers from user until user enters 0 and\n",
    "returns those numbers. Include a main program to test your function."
   ]
  },
  {
   "cell_type": "code",
   "execution_count": 7,
   "metadata": {},
   "outputs": [
    {
     "name": "stdout",
     "output_type": "stream",
     "text": [
      "[1, 2, 3, 4, 5, 6, 7, 8, 9]\n"
     ]
    }
   ],
   "source": [
    "lst = []\n",
    "while(True):\n",
    "    num = int(input())\n",
    "    if num != 0:\n",
    "        lst.append(num)\n",
    "    else:\n",
    "        print(lst)\n",
    "        break\n"
   ]
  },
  {
   "attachments": {},
   "cell_type": "markdown",
   "metadata": {},
   "source": [
    "Problem 2: Longest Words\n",
    "Create a function named longestWords that takes an array of words as input and returns a\n",
    "list containing all the longest words. The order of the elements in the returned list must\n",
    "match the order of the elements in the original list. Include a main program to test your\n",
    "function.\n",
    "Input: [“list”, “vector”, “map”, “set”, “array”, “words”, “string”]\n",
    "Output: [“vector”, “string”]\n"
   ]
  },
  {
   "cell_type": "code",
   "execution_count": 3,
   "metadata": {},
   "outputs": [
    {
     "data": {
      "text/plain": [
       "['dgjdgh']"
      ]
     },
     "execution_count": 3,
     "metadata": {},
     "output_type": "execute_result"
    }
   ],
   "source": [
    "def longest_vector():\n",
    "    array_words = [\"sai\", \"sa\", \"dfghj\", \"fghhh\", \"dgjdgh\"]\n",
    "    longest_lst = []\n",
    "    maxi = 0\n",
    "    for i in range(len(array_words)):\n",
    "        if len(array_words[i]) > maxi:\n",
    "            maxi = len(array_words[i])\n",
    "            longest_lst = []\n",
    "            longest_lst.append(array_words[i])\n",
    "        elif len(array_words[i]) == maxi:\n",
    "            longest_lst.append(array_words[i])\n",
    "    return longest_lst\n",
    "longest_vector()"
   ]
  },
  {
   "attachments": {},
   "cell_type": "markdown",
   "metadata": {},
   "source": [
    "Problem 3: Tokenization\n",
    "Create a function named tokenize that takes a string representing a mathematical\n",
    "expression with integers as its only parameter and breaks it into a list of tokens. Each\n",
    "token should be a parenthesis, an operator, or a number. Return the list of tokens as the\n",
    "function’s result. You may assume that the string passed to your function always contains\n",
    "a valid mathematical expression consisting of parentheses, operators and integers. Include\n",
    "a main program to test your function.\n",
    "Input: 2+12*(123+23-4)/72\n",
    "Output: [“2”, “+”, “12”, “(”, “123”, “+”, “23”, “-”, “4”, “)”, “/”, “72”]"
   ]
  },
  {
   "cell_type": "code",
   "execution_count": 26,
   "metadata": {},
   "outputs": [
    {
     "data": {
      "text/plain": [
       "['2', '+', '12', '*', '(', '123', '+', '23', '-', '4', ')', '/']"
      ]
     },
     "execution_count": 26,
     "metadata": {},
     "output_type": "execute_result"
    }
   ],
   "source": [
    "def Tokenization(token_string):\n",
    "    tokens = []\n",
    "    string = \"\"\n",
    "    for i in range(len(token_string)):\n",
    "        if token_string[i].isdigit():\n",
    "            string += token_string[i]\n",
    "        else:\n",
    "            if string != \"\":\n",
    "                tokens.append(string)\n",
    "                string = \"\"\n",
    "            tokens.append(token_string[i])\n",
    "    return tokens\n",
    "\n",
    "token_string = \"2+12*(123+23-4)/72\"\n",
    "Tokenization(token_string)\n"
   ]
  }
 ],
 "metadata": {
  "kernelspec": {
   "display_name": "Python 3",
   "language": "python",
   "name": "python3"
  },
  "language_info": {
   "codemirror_mode": {
    "name": "ipython",
    "version": 3
   },
   "file_extension": ".py",
   "mimetype": "text/x-python",
   "name": "python",
   "nbconvert_exporter": "python",
   "pygments_lexer": "ipython3",
   "version": "3.10.8"
  },
  "orig_nbformat": 4,
  "vscode": {
   "interpreter": {
    "hash": "beedbe2faf2f7048d727558d0bc3221e7eba2a0b921cac4d4771b2feb8f74b30"
   }
  }
 },
 "nbformat": 4,
 "nbformat_minor": 2
}
