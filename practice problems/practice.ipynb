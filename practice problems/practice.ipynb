{
 "cells": [
  {
   "attachments": {},
   "cell_type": "markdown",
   "metadata": {},
   "source": [
    "Little Jóna needs a program. The program should read integers and print them in reverse order. Jóna asks for your help.\n",
    "\n",
    "Input\n",
    "The first line of input contains the integer n. Then comes a list of n integers, each on its own line.\n",
    "\n",
    "Output\n",
    "The list should be printed in reverse order of input"
   ]
  },
  {
   "attachments": {},
   "cell_type": "markdown",
   "metadata": {},
   "source": [
    "**We cannot store the values without an array for reversing the integers"
   ]
  },
  {
   "attachments": {},
   "cell_type": "markdown",
   "metadata": {},
   "source": [
    "METHOD1 - using reverse function"
   ]
  },
  {
   "cell_type": "code",
   "execution_count": 3,
   "metadata": {},
   "outputs": [
    {
     "name": "stdout",
     "output_type": "stream",
     "text": [
      "5\n",
      "4\n",
      "3\n",
      "2\n",
      "1\n"
     ]
    }
   ],
   "source": [
    "def reverse_int(num_range):\n",
    "    array = []\n",
    "    for i in range(num_range):\n",
    "        single_int = int(input())\n",
    "        array.append(single_int)\n",
    "    array.reverse()\n",
    "    for i in array:\n",
    "        print(i)\n",
    "num_range = int(input())\n",
    "reverse_int(num_range)\n",
    "    "
   ]
  },
  {
   "attachments": {},
   "cell_type": "markdown",
   "metadata": {},
   "source": [
    "METHOD2 - Using auxillary array for storing direct values"
   ]
  },
  {
   "cell_type": "code",
   "execution_count": 7,
   "metadata": {},
   "outputs": [
    {
     "name": "stdout",
     "output_type": "stream",
     "text": [
      "6\n",
      "5\n",
      "3\n"
     ]
    }
   ],
   "source": [
    "def reverse_int(num_range):\n",
    "    array = [0 for i in range(num_range)]\n",
    "    for i in range(num_range):\n",
    "        single_int = int(input())\n",
    "        array[num_range - i -1] = single_int\n",
    "    for i in array:\n",
    "        print(i)\n",
    "    \n",
    "num_range = int(input())\n",
    "reverse_int(num_range)\n",
    "    "
   ]
  },
  {
   "attachments": {},
   "cell_type": "markdown",
   "metadata": {},
   "source": [
    "Write a program that reads N integers from user and find the element which is closest to zero.\n",
    "\n",
    "Input:  8\n",
    "\t-2 3 5 7 9 3 -6 8\n",
    "Output: -2 "
   ]
  },
  {
   "attachments": {},
   "cell_type": "markdown",
   "metadata": {},
   "source": [
    "METHOD1 -  Without using sort function taking two arrays positive and negative arrays"
   ]
  },
  {
   "cell_type": "code",
   "execution_count": 15,
   "metadata": {},
   "outputs": [
    {
     "name": "stdout",
     "output_type": "stream",
     "text": [
      "[4, 5, 6, 7, 8, 3, 0, -9, -6, -8, -2, -1, 1, 6, 7, 8]\n",
      "[-9, -6, -8, -2, -1]\n",
      "[4, 5, 6, 7, 8, 3, 1, 6, 7, 8]\n",
      "1 -1 1\n"
     ]
    },
    {
     "data": {
      "text/plain": [
       "-1"
      ]
     },
     "execution_count": 15,
     "metadata": {},
     "output_type": "execute_result"
    }
   ],
   "source": [
    "def closest_to_zero():\n",
    "    number_line = list(map(int, input().split()))\n",
    "    neg_array = [i for i in number_line if i < 0]\n",
    "    pos_array = [i for i in number_line if i > 0]\n",
    "    num1 = min(pos_array)\n",
    "    num2 = max(neg_array)\n",
    "    close = min(abs(num1), abs(num2))\n",
    "    if close == abs(num2):\n",
    "        return num2\n",
    "    else:\n",
    "        return num1\n",
    "closest_to_zero()\n",
    "    \n",
    "\n"
   ]
  },
  {
   "attachments": {},
   "cell_type": "markdown",
   "metadata": {},
   "source": [
    "METHOD2 using sort function"
   ]
  },
  {
   "cell_type": "code",
   "execution_count": 22,
   "metadata": {},
   "outputs": [
    {
     "data": {
      "text/plain": [
       "-1"
      ]
     },
     "execution_count": 22,
     "metadata": {},
     "output_type": "execute_result"
    }
   ],
   "source": [
    "def closest_to_zero():\n",
    "    num_line = [-5, -4, -3, -2, -1, 0, 1, 2, 3, 4, 5, 6, 7]#list(map(int, input().split()))\n",
    "    num_line.sort()\n",
    "    position1 = num_line.index(0)\n",
    "    left_zero = num_line[position1 -1]\n",
    "    right_zero = num_line[position1 +1]\n",
    "    close = min(abs(left_zero), abs(right_zero))\n",
    "    if close == abs(left_zero):\n",
    "        return left_zero\n",
    "    else:\n",
    "        return right_zero\n",
    "    \n",
    "closest_to_zero()"
   ]
  },
  {
   "attachments": {},
   "cell_type": "markdown",
   "metadata": {},
   "source": [
    "A standard deviation is a measure of how dispersed the data is in relation to the mean. Write a program that reads N integers from user and find the Standard Deviation of those N elements. The SD is defined as the square root of, the sum of the squared differences between each element and the mean divided by the number of elements.\n",
    "Input:  6\n",
    "\t10 8 10 8 8 4\n",
    "Output: 2.19 "
   ]
  },
  {
   "cell_type": "code",
   "execution_count": 40,
   "metadata": {},
   "outputs": [
    {
     "data": {
      "text/plain": [
       "2.415514591924804"
      ]
     },
     "execution_count": 40,
     "metadata": {},
     "output_type": "execute_result"
    }
   ],
   "source": [
    "import math\n",
    "def standard_deviation():\n",
    "    numbers = list(map(int, input().split()))\n",
    "    mean = sum(numbers) / len(numbers)\n",
    "    numerator = 0\n",
    "    for i in range(len(numbers)):\n",
    "        numerator += (numbers[i]- mean) ** 2\n",
    "    return math.sqrt(numerator / len(numbers))\n",
    "standard_deviation()"
   ]
  },
  {
   "attachments": {},
   "cell_type": "markdown",
   "metadata": {},
   "source": [
    "Create a function named nameOfMonth that returns the name of month given its number (1 for January, 2 for February, and so forth). You should not use any form of if-else or switch statements. Include a main program to test your function.\n",
    "Input:  4\n",
    "Output: April"
   ]
  },
  {
   "cell_type": "code",
   "execution_count": null,
   "metadata": {},
   "outputs": [],
   "source": []
  },
  {
   "attachments": {},
   "cell_type": "markdown",
   "metadata": {},
   "source": []
  }
 ],
 "metadata": {
  "kernelspec": {
   "display_name": "Python 3",
   "language": "python",
   "name": "python3"
  },
  "language_info": {
   "codemirror_mode": {
    "name": "ipython",
    "version": 3
   },
   "file_extension": ".py",
   "mimetype": "text/x-python",
   "name": "python",
   "nbconvert_exporter": "python",
   "pygments_lexer": "ipython3",
   "version": "3.10.8"
  },
  "orig_nbformat": 4,
  "vscode": {
   "interpreter": {
    "hash": "beedbe2faf2f7048d727558d0bc3221e7eba2a0b921cac4d4771b2feb8f74b30"
   }
  }
 },
 "nbformat": 4,
 "nbformat_minor": 2
}
