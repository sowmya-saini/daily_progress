{
 "cells": [
  {
   "attachments": {},
   "cell_type": "markdown",
   "metadata": {},
   "source": [
    "Problem 1: Sorting in Descending Order\n",
    "Create a function named sortIntegersDesc that sorts given array of integers in descending\n",
    "order. Include a main program to test your function."
   ]
  },
  {
   "attachments": {},
   "cell_type": "markdown",
   "metadata": {},
   "source": [
    "Using Inbuilt functions"
   ]
  },
  {
   "cell_type": "code",
   "execution_count": 7,
   "metadata": {},
   "outputs": [
    {
     "data": {
      "text/plain": [
       "([0, 1, 2, 3, 7, 8, 9, 456], [456, 9, 8, 7, 3, 2, 1, 0])"
      ]
     },
     "execution_count": 7,
     "metadata": {},
     "output_type": "execute_result"
    }
   ],
   "source": [
    "def sortIntegerDesc(array_input):\n",
    "    array_input.sort()\n",
    "    des = array_input.copy()\n",
    "    des.reverse()\n",
    "    return array_input, des\n",
    "array_input = list(map(int, input().split()))\n",
    "sortIntegerDesc(array_input)"
   ]
  },
  {
   "attachments": {},
   "cell_type": "markdown",
   "metadata": {},
   "source": [
    "WithoutInbuilt functions"
   ]
  },
  {
   "cell_type": "code",
   "execution_count": 9,
   "metadata": {},
   "outputs": [
    {
     "name": "stdout",
     "output_type": "stream",
     "text": [
      "[1, 2, 3, 4, 9, 8, 7, 6, 6, 54, 54]\n"
     ]
    },
    {
     "data": {
      "text/plain": [
       "[54, 54, 9, 8, 7, 6, 6, 4, 3, 2, 1]"
      ]
     },
     "execution_count": 9,
     "metadata": {},
     "output_type": "execute_result"
    }
   ],
   "source": [
    "def sortingDesc(array):\n",
    "    print(array)\n",
    "    required_arr = []\n",
    "    while(array != []):\n",
    "        max_val = max(array)\n",
    "        array.remove(max_val)\n",
    "        required_arr.append(max_val)\n",
    "    return required_arr\n",
    "array = list(map(int, input().split()))\n",
    "sortingDesc(array)"
   ]
  },
  {
   "attachments": {},
   "cell_type": "markdown",
   "metadata": {},
   "source": [
    "Problem 2: String Sorting-I\n",
    "Create a function named sortStrings that sorts given array of strings in descending order\n",
    "with case insensitivity. Include a main program to test your function."
   ]
  },
  {
   "cell_type": "code",
   "execution_count": 3,
   "metadata": {},
   "outputs": [
    {
     "data": {
      "text/plain": [
       "['def', 'c', 'bed', 'ab', 'aa', 'a']"
      ]
     },
     "execution_count": 3,
     "metadata": {},
     "output_type": "execute_result"
    }
   ],
   "source": [
    "def sortStrings(string_sorting):\n",
    "    string_sorting = [i.lower() for i in string_sorting]\n",
    "    string_sorting.sort()\n",
    "    decending_order = string_sorting.copy()\n",
    "    decending_order.reverse()\n",
    "    return decending_order\n",
    "\n",
    "\n",
    "string_sorting = list(input().split())\n",
    "sortStrings(string_sorting)"
   ]
  },
  {
   "attachments": {},
   "cell_type": "markdown",
   "metadata": {},
   "source": [
    "Problem 3: String Sorting-II\n",
    "Create a function named sortDomains that sorts given array of domain names in order of\n",
    "the reversed domain name. For example, the reverse domain of cs.iitg.edu is\n",
    "edu.iitg.cs. Include a main program to test your function."
   ]
  },
  {
   "cell_type": "code",
   "execution_count": 6,
   "metadata": {},
   "outputs": [
    {
     "data": {
      "text/plain": [
       "['cs.iitg.edu', 'is.ui.jh']"
      ]
     },
     "execution_count": 6,
     "metadata": {},
     "output_type": "execute_result"
    }
   ],
   "source": [
    "def sortDomains(domain):\n",
    "    for i in domain:\n",
    "        split_word = i.split('.')\n",
    "        split_word.reverse()\n",
    "        domain_name_rev = \".\".join(split_word)\n",
    "        i = domain_name_rev\n",
    "    return domain\n",
    "domain = list(input().split())\n",
    "sortDomains(domain)"
   ]
  },
  {
   "attachments": {},
   "cell_type": "markdown",
   "metadata": {},
   "source": [
    "Problem 4: Random Lottery Numbers\n",
    "Create a function named randomLotteryNumbers that generates a list containing random\n",
    "selection of 6 numbers from the range of 1 to 49 for a lottery ticket. Ensure that the 6\n",
    "numbers selected do not contain any duplicates. Keep the numbers in ascending order by\n",
    "sorting list before you return list. Include a main program to test your function."
   ]
  },
  {
   "cell_type": "code",
   "execution_count": 12,
   "metadata": {},
   "outputs": [
    {
     "data": {
      "text/plain": [
       "[3, 12, 25, 36, 39, 43]"
      ]
     },
     "execution_count": 12,
     "metadata": {},
     "output_type": "execute_result"
    }
   ],
   "source": [
    "import random as r\n",
    "def randomLotteryNumbers():\n",
    "    random_lottery = []\n",
    "    while(len(random_lottery) != 6):\n",
    "        random_numbers = r.randint(1, 49)\n",
    "        if random_numbers not in random_lottery:\n",
    "            random_lottery.append(random_numbers)\n",
    "    random_lottery.sort()\n",
    "    return random_lottery\n",
    "randomLotteryNumbers()"
   ]
  },
  {
   "attachments": {},
   "cell_type": "markdown",
   "metadata": {},
   "source": [
    "Problem 5: Removing Outliers\n",
    "When analyzing data collected as part of a science experiment it may be desirable to\n",
    "remove the most extreme values before performing other calculations. Create a function\n",
    "named removeOutliers that takes an array of integers and a non-negative integer, n, as its\n",
    "parameters. The function should create a new copy of the list with the n largest elements\n",
    "and the n smallest elements removed. Then it should return the new copy of the list as the\n",
    "function’s only result. The order of the elements in the returned list does not have to\n",
    "match the order of the elements in the original list. Include a main program to test your\n",
    "function."
   ]
  },
  {
   "cell_type": "code",
   "execution_count": 33,
   "metadata": {},
   "outputs": [
    {
     "name": "stdout",
     "output_type": "stream",
     "text": [
      "[1, 2, 2, 3, 4, 5, 6, 9, 8, 7, 8, 9, 8, 7, 6, 2, 3] 4\n",
      "[1, 2, 2, 2, 3, 3, 4, 5, 6, 6, 7, 7, 8, 8, 8, 9, 9]\n"
     ]
    },
    {
     "data": {
      "text/plain": [
       "[3, 3, 4, 5, 6, 6, 7, 7, 8]"
      ]
     },
     "execution_count": 33,
     "metadata": {},
     "output_type": "execute_result"
    }
   ],
   "source": [
    "def removeOutliers(array, n):\n",
    "    print(array, n)\n",
    "    array.sort()\n",
    "    print(array)\n",
    "    if len(array) >= n*2:\n",
    "        return array[n:-n]\n",
    "    else:\n",
    "        print(\"Enter valid inputs\")\n",
    "\n",
    "array = list(map(int, input().split()))\n",
    "n = int(input())\n",
    "removeOutliers(array, n)"
   ]
  }
 ],
 "metadata": {
  "kernelspec": {
   "display_name": "Python 3",
   "language": "python",
   "name": "python3"
  },
  "language_info": {
   "codemirror_mode": {
    "name": "ipython",
    "version": 3
   },
   "file_extension": ".py",
   "mimetype": "text/x-python",
   "name": "python",
   "nbconvert_exporter": "python",
   "pygments_lexer": "ipython3",
   "version": "3.10.8"
  },
  "orig_nbformat": 4,
  "vscode": {
   "interpreter": {
    "hash": "beedbe2faf2f7048d727558d0bc3221e7eba2a0b921cac4d4771b2feb8f74b30"
   }
  }
 },
 "nbformat": 4,
 "nbformat_minor": 2
}
