{
 "cells": [
  {
   "attachments": {},
   "cell_type": "markdown",
   "metadata": {},
   "source": [
    "Problem 1: Missing Comments\n",
    "When one writes a function, it is generally a good idea to include a comment that outlines\n",
    "the function’s purpose, its parameters and its return value. However, sometimes\n",
    "comments are forgotten, or left out by well-intentioned programmers that plan to write\n",
    "them later but then never get around to it. Create a python function findMissingComments\n",
    "that takes python source file as input and identifies functions that are not immediately\n",
    "preceded by a comment. For the purposes of this exercise, assume that any line that\n",
    "begins with def, followed by a space, is the beginning of a function definition. Assume\n",
    "that the comment character, #, will be the first character on the previous line when the\n",
    "function has a comment. Display the names of all of the functions that are missing\n",
    "comments, along with line number where the function definition is located.\n",
    "Write a main program to demonstrate your function."
   ]
  },
  {
   "cell_type": "code",
   "execution_count": 2,
   "metadata": {},
   "outputs": [
    {
     "name": "stdout",
     "output_type": "stream",
     "text": [
      "2 def lowercase(str_in):\n",
      "\n",
      "14 def digits(str_in):\n",
      "\n",
      "20 def CheckPassword():\n",
      "\n"
     ]
    }
   ],
   "source": [
    "def findmissingcomments(source):\n",
    "    s = open(source, \"r\")\n",
    "    line = 1\n",
    "    prev = \" \"\n",
    "    for i in s:\n",
    "        if i[0] == \"d\" and i[1] == \"e\" and i[2] == \"f\" and i[3] == \" \":\n",
    "            if prev[0] != \"#\":\n",
    "                print(line, end = \" \")\n",
    "                print(i)\n",
    "        prev = i\n",
    "        line += 1\n",
    "    s.close()\n",
    "source = \"test2.txt\"\n",
    "findmissingcomments(source)\n",
    "\n"
   ]
  }
 ],
 "metadata": {
  "kernelspec": {
   "display_name": "Python 3",
   "language": "python",
   "name": "python3"
  },
  "language_info": {
   "codemirror_mode": {
    "name": "ipython",
    "version": 3
   },
   "file_extension": ".py",
   "mimetype": "text/x-python",
   "name": "python",
   "nbconvert_exporter": "python",
   "pygments_lexer": "ipython3",
   "version": "3.10.8"
  },
  "orig_nbformat": 4,
  "vscode": {
   "interpreter": {
    "hash": "beedbe2faf2f7048d727558d0bc3221e7eba2a0b921cac4d4771b2feb8f74b30"
   }
  }
 },
 "nbformat": 4,
 "nbformat_minor": 2
}
