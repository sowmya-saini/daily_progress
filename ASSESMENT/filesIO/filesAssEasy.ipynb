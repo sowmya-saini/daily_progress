{
 "cells": [
  {
   "attachments": {},
   "cell_type": "markdown",
   "metadata": {},
   "source": [
    "#reading entire file for sample"
   ]
  },
  {
   "cell_type": "code",
   "execution_count": null,
   "metadata": {},
   "outputs": [],
   "source": [
    "def head(file):\n",
    "    fileopen = open(file, \"r\")\n",
    "    print(fileopen.read())\n",
    "    fileopen.close()\n",
    "file = \"test.txt\"\n",
    "head(file)"
   ]
  },
  {
   "attachments": {},
   "cell_type": "markdown",
   "metadata": {},
   "source": [
    "Problem 1: Head of File\n",
    "Unix-based operating systems usually include a tool named head which displays the first\n",
    "10 lines of a file whose name is provided as a command line parameter. Create a function\n",
    "named head that takes filename as input and returns the list of first 10 lines.\n",
    "Write a main program to demonstrate your function."
   ]
  },
  {
   "cell_type": "code",
   "execution_count": null,
   "metadata": {},
   "outputs": [],
   "source": [
    "def head(file):\n",
    "    fileopen = open(file, \"r\")\n",
    "    for i in range(10):\n",
    "        print(fileopen.readline())\n",
    "    fileopen.close()\n",
    "file = \"test.txt\"\n",
    "head(file)"
   ]
  },
  {
   "attachments": {},
   "cell_type": "markdown",
   "metadata": {},
   "source": [
    "Problem 2: Number the Lines\n",
    "Create a function named numberLines that takes two filenames(first one for input, second\n",
    "one for output) as input and reads the lines from input file, adds line numbers to each line\n",
    "before writing it to an output file. Each line in the output file should begin with the line\n",
    "number, followed by a colon and a space, followed by the line from the input file.\n",
    "Write a main program to demonstrate your function. The names of the input and output\n",
    "files are provided by the user."
   ]
  },
  {
   "cell_type": "code",
   "execution_count": 40,
   "metadata": {},
   "outputs": [],
   "source": [
    "\n",
    "\n",
    "def Numberlines(inputFile_name, outputFile_name):\n",
    "    inputfile = open(inputFile_name, \"r\")\n",
    "    outputfile = open(outputFile_name, \"w\")\n",
    "    num = 1\n",
    "    for i in inputfile:\n",
    "        num = int(num)\n",
    "        num1 = str(num)\n",
    "        outputfile.write(num1)\n",
    "        outputfile.write(\": \")\n",
    "        outputfile.write(i)\n",
    "        num += 1\n",
    "    inputfile.close()\n",
    "    outputfile.close()\n",
    "\n",
    "inputFile_name = input()\n",
    "outputFile_name = input()\n",
    "Numberlines(inputFile_name, outputFile_name)\n",
    "\n",
    "    "
   ]
  },
  {
   "attachments": {},
   "cell_type": "markdown",
   "metadata": {},
   "source": [
    "Problem 3: Remove Comments\n",
    "Python uses the # character to mark the beginning of a comment. The comment ends at\n",
    "the end of the line containing the # character. In this exercise, Create a function named\n",
    "removeComments that takes two file names(python source filename and output filename)\n",
    "as input and removes all of the comments from the source file. Your logic should check\n",
    "each line in the file to determine if a # character is present. If it is then your program\n",
    "should remove all of the characters from the # character to the end of the line, save the\n",
    "modified line in the output file. If it is not then your program must save the line in the\n",
    "output file without any modification.\n",
    "Write a main program to demonstrate your function. The names of the input and output\n",
    "files are provided by the user."
   ]
  },
  {
   "cell_type": "code",
   "execution_count": 52,
   "metadata": {},
   "outputs": [],
   "source": [
    "def removeComments(sourceFile, outFile):\n",
    "    sourcefile = open(sourceFile, \"r\")\n",
    "    outfile = open(outFile, \"w\")\n",
    "    for i in sourcefile:\n",
    "        for space in i:\n",
    "            if space != \"#\":\n",
    "                outfile.write(space)\n",
    "            else:\n",
    "                break\n",
    "        # else:\n",
    "        #     outfile.write(i)\n",
    "    sourcefile.close()\n",
    "    outfile.close()\n",
    "sourceFile = input()\n",
    "outFile = input()\n",
    "removeComments(sourceFile, outFile)\n"
   ]
  }
 ],
 "metadata": {
  "kernelspec": {
   "display_name": "Python 3",
   "language": "python",
   "name": "python3"
  },
  "language_info": {
   "codemirror_mode": {
    "name": "ipython",
    "version": 3
   },
   "file_extension": ".py",
   "mimetype": "text/x-python",
   "name": "python",
   "nbconvert_exporter": "python",
   "pygments_lexer": "ipython3",
   "version": "3.10.8"
  },
  "orig_nbformat": 4,
  "vscode": {
   "interpreter": {
    "hash": "beedbe2faf2f7048d727558d0bc3221e7eba2a0b921cac4d4771b2feb8f74b30"
   }
  }
 },
 "nbformat": 4,
 "nbformat_minor": 2
}
